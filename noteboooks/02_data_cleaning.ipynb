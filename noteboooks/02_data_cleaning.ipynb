{
 "cells": [
  {
   "cell_type": "markdown",
   "id": "ce2ac69f",
   "metadata": {},
   "source": []
  },
  {
   "cell_type": "markdown",
   "id": "94818d80",
   "metadata": {},
   "source": [
    "### Data Cleaning"
   ]
  },
  {
   "cell_type": "code",
   "execution_count": 10,
   "id": "91638774",
   "metadata": {},
   "outputs": [
    {
     "name": "stdout",
     "output_type": "stream",
     "text": [
      "✅ DataFrame loaded successfully!\n",
      "Shape: (541909, 8)\n"
     ]
    }
   ],
   "source": [
    "import pandas as pd\n",
    "\n",
    "df = pd.read_pickle('../data/processed_df.pkl')\n",
    "print(\"✅ DataFrame loaded successfully!\")\n",
    "print(f\"Shape: {df.shape}\")"
   ]
  },
  {
   "cell_type": "code",
   "execution_count": 11,
   "id": "dde1a938",
   "metadata": {},
   "outputs": [
    {
     "name": "stdout",
     "output_type": "stream",
     "text": [
      "Original shape: (541909, 8)\n",
      "After cleaning: (406829, 12)\n"
     ]
    }
   ],
   "source": [
    "# Perform cleaning\n",
    "df_clean = df.dropna(subset=['CustomerID']).copy()  # Add .copy() to avoid warnings\n",
    "df_clean['Description'] = df_clean['Description'].fillna('Unknown Product')\n",
    "\n",
    "# Convert InvoiceDate to datetime\n",
    "df_clean['InvoiceDate'] = pd.to_datetime(df_clean['InvoiceDate'])\n",
    "\n",
    "# Create additional time features\n",
    "df_clean['Year'] = df_clean['InvoiceDate'].dt.year\n",
    "df_clean['Month'] = df_clean['InvoiceDate'].dt.month\n",
    "df_clean['DayOfWeek'] = df_clean['InvoiceDate'].dt.day_name()\n",
    "\n",
    "# Calculate total amount per transaction\n",
    "df_clean['TotalAmount'] = df_clean['Quantity'] * df_clean['UnitPrice']\n",
    "\n",
    "print(f\"Original shape: {df.shape}\")\n",
    "print(f\"After cleaning: {df_clean.shape}\")"
   ]
  },
  {
   "cell_type": "code",
   "execution_count": 12,
   "id": "c32b0fdb",
   "metadata": {},
   "outputs": [
    {
     "name": "stdout",
     "output_type": "stream",
     "text": [
      "✅ CLEANED DataFrame saved for next notebook!\n"
     ]
    }
   ],
   "source": [
    "# IMPORTANT: Save the CLEANED DataFrame, not the original one\n",
    "df_clean.to_pickle('../data/cleaned_df.pkl')  # Save df_clean, not df\n",
    "print(\"✅ CLEANED DataFrame saved for next notebook!\")"
   ]
  }
 ],
 "metadata": {
  "kernelspec": {
   "display_name": "data-env",
   "language": "python",
   "name": "python3"
  },
  "language_info": {
   "codemirror_mode": {
    "name": "ipython",
    "version": 3
   },
   "file_extension": ".py",
   "mimetype": "text/x-python",
   "name": "python",
   "nbconvert_exporter": "python",
   "pygments_lexer": "ipython3",
   "version": "3.12.4"
  }
 },
 "nbformat": 4,
 "nbformat_minor": 5
}
